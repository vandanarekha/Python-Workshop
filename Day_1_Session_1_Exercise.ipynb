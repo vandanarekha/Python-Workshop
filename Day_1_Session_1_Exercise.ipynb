{
  "nbformat": 4,
  "nbformat_minor": 0,
  "metadata": {
    "colab": {
      "name": "Day 1 Session 1 Exercise",
      "provenance": [],
      "collapsed_sections": [],
      "authorship_tag": "ABX9TyNRWDA8+NAxqB1tk/EdWrGF",
      "include_colab_link": true
    },
    "kernelspec": {
      "name": "python3",
      "display_name": "Python 3"
    }
  },
  "cells": [
    {
      "cell_type": "markdown",
      "metadata": {
        "id": "view-in-github",
        "colab_type": "text"
      },
      "source": [
        "<a href=\"https://colab.research.google.com/github/vandanarekha/Python-Workshop/blob/master/Day_1_Session_1_Exercise.ipynb\" target=\"_parent\"><img src=\"https://colab.research.google.com/assets/colab-badge.svg\" alt=\"Open In Colab\"/></a>"
      ]
    },
    {
      "cell_type": "markdown",
      "metadata": {
        "id": "lnkAzs-u4SX5",
        "colab_type": "text"
      },
      "source": [
        "#Find the compound interest for the given p,n,r (formula : p(1+n*r/100)n )"
      ]
    },
    {
      "cell_type": "code",
      "metadata": {
        "id": "R3p9EDFY480N",
        "colab_type": "code",
        "colab": {
          "base_uri": "https://localhost:8080/",
          "height": 84
        },
        "outputId": "ba86d9a6-2f96-4290-9717-d3a46cd41117"
      },
      "source": [
        "p=float(input(\"Enter the principal amount\"))\n",
        "n=float(input(\"Enter the value of n time period\"))\n",
        "r=float(input(\"Enter the value of r\"))\n",
        "ci=p*(pow((1+r/100),n))\n",
        "print(\"The compound intrest is\",ci)"
      ],
      "execution_count": 1,
      "outputs": [
        {
          "output_type": "stream",
          "text": [
            "Enter the principal amount1500\n",
            "Enter the value of n time period2\n",
            "Enter the value of r3\n",
            "The compound intrest is 1591.35\n"
          ],
          "name": "stdout"
        }
      ]
    },
    {
      "cell_type": "markdown",
      "metadata": {
        "id": "JhjNe5635J8x",
        "colab_type": "text"
      },
      "source": [
        "#Convert centegrade to farenheit ( f= 9/5*c+32)"
      ]
    },
    {
      "cell_type": "code",
      "metadata": {
        "id": "UnxcMPSK5Rle",
        "colab_type": "code",
        "colab": {
          "base_uri": "https://localhost:8080/",
          "height": 50
        },
        "outputId": "53e2816d-a8fd-4398-ef06-58050b94df20"
      },
      "source": [
        "c=float(input(\"Enter the temperature in centegrade\"))\n",
        "f=((9/5*c)+32)\n",
        "print(\"The fahrenheit value is {0}°F\".format(f))"
      ],
      "execution_count": 2,
      "outputs": [
        {
          "output_type": "stream",
          "text": [
            "Enter the temperature in centegrade54\n",
            "The fahrenheit value is 129.2°F\n"
          ],
          "name": "stdout"
        }
      ]
    },
    {
      "cell_type": "markdown",
      "metadata": {
        "id": "0m4kaPiG5Yui",
        "colab_type": "text"
      },
      "source": [
        "\n",
        "#Find the greater of two nos"
      ]
    },
    {
      "cell_type": "code",
      "metadata": {
        "id": "Zj7idvLd5d0F",
        "colab_type": "code",
        "colab": {
          "base_uri": "https://localhost:8080/",
          "height": 67
        },
        "outputId": "f3f28c1f-ae65-4f2e-aa4d-47056a6af435"
      },
      "source": [
        "a=float(input(\"Enter the value of a\"))\n",
        "b=float(input(\"Enter the value of b\"))\n",
        "if(a>b):\n",
        "  print(\"a is greater\")\n",
        "else:\n",
        "  print(\"b is greater\")"
      ],
      "execution_count": 3,
      "outputs": [
        {
          "output_type": "stream",
          "text": [
            "Enter the value of a5.8\n",
            "Enter the value of b3.5\n",
            "a is greater\n"
          ],
          "name": "stdout"
        }
      ]
    },
    {
      "cell_type": "markdown",
      "metadata": {
        "id": "xv1b6Oqr5nkI",
        "colab_type": "text"
      },
      "source": [
        "#Write a program for finding surface areas of cylinder and cone (2PIrrh, 1/3PIrrh) using function"
      ]
    },
    {
      "cell_type": "code",
      "metadata": {
        "id": "ea8M77Yh5tEW",
        "colab_type": "code",
        "colab": {
          "base_uri": "https://localhost:8080/",
          "height": 118
        },
        "outputId": "c21e2ea7-e4be-4944-8cf6-5c083d8322ba"
      },
      "source": [
        "r1=float(input(\"Enter the radius of the cylinder\"))\n",
        "h1=float(input(\"Enter the height of the cylinder\"))\n",
        "pi=22/7\n",
        "sa=(2*pi*r1*h1)+(2*pi*r1*r1)\n",
        "print(\"The suraface area of the cylinder is\",sa)\n",
        "r2=float(input(\"Enter the radius of cone\"))\n",
        "h2=float(input(\"Enter the height of cone\"))\n",
        "sa1=(1/3*pi*r2*r2*h2)\n",
        "print(\"The surface area of the cone is\",sa1)"
      ],
      "execution_count": 4,
      "outputs": [
        {
          "output_type": "stream",
          "text": [
            "Enter the radius of the cylinder5\n",
            "Enter the height of the cylinder3\n",
            "The suraface area of the cylinder is 251.42857142857142\n",
            "Enter the radius of cone2\n",
            "Enter the height of cone5\n",
            "The surface area of the cone is 20.95238095238095\n"
          ],
          "name": "stdout"
        }
      ]
    },
    {
      "cell_type": "markdown",
      "metadata": {
        "id": "Bc9oRlUS54ki",
        "colab_type": "text"
      },
      "source": [
        "#Find the greatest of four nos ( using ‘and’ operator) using function."
      ]
    },
    {
      "cell_type": "code",
      "metadata": {
        "id": "BciKXEiK6JCk",
        "colab_type": "code",
        "colab": {
          "base_uri": "https://localhost:8080/",
          "height": 101
        },
        "outputId": "d8c399fd-a962-43c5-e2ac-707a7a68caae"
      },
      "source": [
        "a=int(input(\"Enter the value of a\"))\n",
        "b=int(input(\"Enter the value of b\"))\n",
        "c=int(input(\"Enter the value of c\"))\n",
        "d=int(input(\"Enter the value of d\"))\n",
        "if((a>b) and (a>c) and (a>c)):\n",
        "  print(\"a is greater\")\n",
        "elif((b>a)and (b>c) and (b>d)):\n",
        "  print(\"b is greater\")\n",
        "elif((c>a)and (c>b) and (c>d)):\n",
        "  print(\"c is greater\")\n",
        "else:\n",
        "  print(\"d is greater\")"
      ],
      "execution_count": 11,
      "outputs": [
        {
          "output_type": "stream",
          "text": [
            "Enter the value of a33\n",
            "Enter the value of b45\n",
            "Enter the value of c77\n",
            "Enter the value of d25\n",
            "c is greater\n"
          ],
          "name": "stdout"
        }
      ]
    },
    {
      "cell_type": "markdown",
      "metadata": {
        "id": "gacaLYGy6cnc",
        "colab_type": "text"
      },
      "source": [
        "#Write a menu program to perform the operations ( ODDorEven, Factorial, ODDNoUptoN, PrimeUptoN ) using functions for two nos with menu choice"
      ]
    },
    {
      "cell_type": "code",
      "metadata": {
        "id": "nPOzeDeL6gbt",
        "colab_type": "code",
        "colab": {
          "base_uri": "https://localhost:8080/",
          "height": 1000
        },
        "outputId": "b913b045-7ba4-4d99-cb26-7f62ed8c1321"
      },
      "source": [
        "loop=1\n",
        "choice=0\n",
        "def OddOrEven(n):\n",
        "  if(n%2==0):\n",
        "      print(\"Even\")\n",
        "  else:\n",
        "      print(\"Odd\")\n",
        "\n",
        "def Factorial(n):\n",
        "  fact=1\n",
        "  while(n>0):\n",
        "    fact=fact*n\n",
        "    n=n-1\n",
        "  print(\"Factorial of the number is: \")\n",
        "  print(fact)\n",
        "\n",
        "def oddno(n):\n",
        "  for i in range(1,n):\n",
        "    if(i%2!=0):\n",
        "      print(i)\n",
        "\n",
        "def prime(n):\n",
        "    for num1 in range(1, n + 1):\n",
        "      if num1 > 1:\n",
        "       for i in range(2, num1):\n",
        "           if (num1 % i) == 0:\n",
        "               break\n",
        "       else:\n",
        "           print(num1)\n",
        "    \n",
        "while loop == 1:\n",
        "    print (\"your options are:\")\n",
        "    print (\" \")\n",
        "    print(\"1) ODD or EVEN\")\n",
        "    print(\"2) Factorial\")\n",
        "    print(\"3) Odd number\")\n",
        "    print(\"4) Prime number\")\n",
        "    print(\" \")\n",
        "    try:\n",
        "        choice = int(input(\"Choose your option: \"))\n",
        "    except:\n",
        "        print(\"please enter a valid number for option\")\n",
        "    print(\" \")\n",
        "    print(\" \")\n",
        "    if choice == 1:\n",
        "        n = int(input(\"Enter the  no: \"))\n",
        "        OddOrEven(n)\n",
        "    elif choice == 2:\n",
        "       n = int(input(\"Enter the  no: \"))\n",
        "       Factorial(n)\n",
        "    elif choice == 3:\n",
        "        n = int(input(\"Enter the  no: \"))\n",
        "        oddno(n)\n",
        "    elif choice == 4:\n",
        "        n = int(input(\"Enter the  no: \"))\n",
        "        prime(n)\n",
        "    else:\n",
        "        print(\"please choice a valid option from 1 to 4\")\n",
        "        choice=0"
      ],
      "execution_count": null,
      "outputs": [
        {
          "output_type": "stream",
          "text": [
            "your options are:\n",
            " \n",
            "1) ODD or EVEN\n",
            "2) Factorial\n",
            "3) Odd number\n",
            "4) Prime number\n",
            " \n",
            "Choose your option: 1\n",
            " \n",
            " \n",
            "Enter the  no: 3\n",
            "Odd\n",
            "your options are:\n",
            " \n",
            "1) ODD or EVEN\n",
            "2) Factorial\n",
            "3) Odd number\n",
            "4) Prime number\n",
            " \n",
            "Choose your option: 2\n",
            " \n",
            " \n",
            "Enter the  no: 5\n",
            "Factorial of the number is: \n",
            "120\n",
            "your options are:\n",
            " \n",
            "1) ODD or EVEN\n",
            "2) Factorial\n",
            "3) Odd number\n",
            "4) Prime number\n",
            " \n",
            "Choose your option: 3\n",
            " \n",
            " \n",
            "Enter the  no: 4\n",
            "1\n",
            "3\n",
            "your options are:\n",
            " \n",
            "1) ODD or EVEN\n",
            "2) Factorial\n",
            "3) Odd number\n",
            "4) Prime number\n",
            " \n",
            "Choose your option: 4\n",
            " \n",
            " \n",
            "Enter the  no: 5\n",
            "2\n",
            "3\n",
            "5\n",
            "your options are:\n",
            " \n",
            "1) ODD or EVEN\n",
            "2) Factorial\n",
            "3) Odd number\n",
            "4) Prime number\n",
            " \n",
            "Choose your option: 5\n",
            " \n",
            " \n",
            "please choice a valid option from 1 to 4\n",
            "your options are:\n",
            " \n",
            "1) ODD or EVEN\n",
            "2) Factorial\n",
            "3) Odd number\n",
            "4) Prime number\n",
            " \n",
            "Choose your option: 5\n",
            " \n",
            " \n",
            "please choice a valid option from 1 to 4\n",
            "your options are:\n",
            " \n",
            "1) ODD or EVEN\n",
            "2) Factorial\n",
            "3) Odd number\n",
            "4) Prime number\n",
            " \n",
            "Choose your option: 1\n",
            " \n",
            " \n",
            "Enter the  no: 3\n",
            "Odd\n",
            "your options are:\n",
            " \n",
            "1) ODD or EVEN\n",
            "2) Factorial\n",
            "3) Odd number\n",
            "4) Prime number\n",
            " \n"
          ],
          "name": "stdout"
        }
      ]
    }
  ]
}