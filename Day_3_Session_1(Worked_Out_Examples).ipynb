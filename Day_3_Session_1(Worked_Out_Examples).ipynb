{
  "nbformat": 4,
  "nbformat_minor": 0,
  "metadata": {
    "colab": {
      "name": "Day 3 Session 1(Worked Out Examples)",
      "provenance": [],
      "collapsed_sections": [],
      "authorship_tag": "ABX9TyPBq2ZiMEYUYlJ6B7SlizcW",
      "include_colab_link": true
    },
    "kernelspec": {
      "name": "python3",
      "display_name": "Python 3"
    }
  },
  "cells": [
    {
      "cell_type": "markdown",
      "metadata": {
        "id": "view-in-github",
        "colab_type": "text"
      },
      "source": [
        "<a href=\"https://colab.research.google.com/github/vandanarekha/Python-Workshop/blob/master/Day_3_Session_1(Worked_Out_Examples).ipynb\" target=\"_parent\"><img src=\"https://colab.research.google.com/assets/colab-badge.svg\" alt=\"Open In Colab\"/></a>"
      ]
    },
    {
      "cell_type": "markdown",
      "metadata": {
        "id": "tSRlSza3Q2wb",
        "colab_type": "text"
      },
      "source": [
        "#program to find prime number-Good Code"
      ]
    },
    {
      "cell_type": "code",
      "metadata": {
        "id": "rQA1SZFhRCWg",
        "colab_type": "code",
        "colab": {
          "base_uri": "https://localhost:8080/",
          "height": 34
        },
        "outputId": "e4f80c85-7b8c-400c-d20c-f38c85c70ba1"
      },
      "source": [
        "i=25\n",
        "for x in range(2,i//2+1):\n",
        "  if i%x==0:\n",
        "    print(\"The number {} is not prime\".format(i))\n",
        "    break\n",
        "  if x==i//2:\n",
        "   print(\"{} is a prime number\". format(i))\n"
      ],
      "execution_count": null,
      "outputs": [
        {
          "output_type": "stream",
          "text": [
            "The number 25 is not prime\n"
          ],
          "name": "stdout"
        }
      ]
    },
    {
      "cell_type": "markdown",
      "metadata": {
        "id": "RmwooKDWeQBm",
        "colab_type": "text"
      },
      "source": [
        "#Good code using for... else"
      ]
    },
    {
      "cell_type": "code",
      "metadata": {
        "id": "jB-QrQNtecXL",
        "colab_type": "code",
        "colab": {
          "base_uri": "https://localhost:8080/",
          "height": 34
        },
        "outputId": "b484e527-7d14-4462-be27-4a90e9c304c5"
      },
      "source": [
        "i=25\n",
        "for x in range(2, i//2+1):\n",
        "      if i%x==0:\n",
        "         print(\"The number {} is not prime\".format(i))\n",
        "         break\n",
        "else:\n",
        "    print (\"{} is a prime number\".format(i))\n"
      ],
      "execution_count": null,
      "outputs": [
        {
          "output_type": "stream",
          "text": [
            "The number 25 is not prime\n"
          ],
          "name": "stdout"
        }
      ]
    },
    {
      "cell_type": "markdown",
      "metadata": {
        "id": "DcSrRzXgehyi",
        "colab_type": "text"
      },
      "source": [
        "#Using Unpacking to Write Concise Code\n"
      ]
    },
    {
      "cell_type": "code",
      "metadata": {
        "id": "DLy7Wupaeozj",
        "colab_type": "code",
        "colab": {
          "base_uri": "https://localhost:8080/",
          "height": 50
        },
        "outputId": "93544026-2db0-44e1-8cde-4e045ccd60d4"
      },
      "source": [
        "a, b = 2, 'my-string'\n",
        "print(a)\n",
        "print(b)"
      ],
      "execution_count": null,
      "outputs": [
        {
          "output_type": "stream",
          "text": [
            "2\n",
            "my-string\n"
          ],
          "name": "stdout"
        }
      ]
    },
    {
      "cell_type": "markdown",
      "metadata": {
        "id": "232GeAV7ewMt",
        "colab_type": "text"
      },
      "source": [
        "#Bad unpacking"
      ]
    },
    {
      "cell_type": "code",
      "metadata": {
        "id": "yAaIkP4reyAS",
        "colab_type": "code",
        "colab": {
          "base_uri": "https://localhost:8080/",
          "height": 34
        },
        "outputId": "c1b24b39-cec2-4911-d496-48fb7d71da7a"
      },
      "source": [
        "x = (1, 2, 4, 8, 16)\n",
        "a = x[0]\n",
        "b = x[1]\n",
        "c = x[2]\n",
        "d = x[3]\n",
        "e = x[4]\n",
        "print(a, b, c, d, e)"
      ],
      "execution_count": null,
      "outputs": [
        {
          "output_type": "stream",
          "text": [
            "1 2 4 8 16\n"
          ],
          "name": "stdout"
        }
      ]
    },
    {
      "cell_type": "markdown",
      "metadata": {
        "id": "SR0fj6uJe6w4",
        "colab_type": "text"
      },
      "source": [
        "#Excellent unpacking"
      ]
    },
    {
      "cell_type": "code",
      "metadata": {
        "id": "AIW4e2xLe_Nc",
        "colab_type": "code",
        "colab": {
          "base_uri": "https://localhost:8080/",
          "height": 34
        },
        "outputId": "4534f0ec-b7c3-45aa-86b5-2eae38ec5b78"
      },
      "source": [
        "a,b,c,d,e=x\n",
        "print(a, b, c, d, e)"
      ],
      "execution_count": null,
      "outputs": [
        {
          "output_type": "stream",
          "text": [
            "1 2 4 8 16\n"
          ],
          "name": "stdout"
        }
      ]
    },
    {
      "cell_type": "markdown",
      "metadata": {
        "id": "qGGSTVvwfEjW",
        "colab_type": "text"
      },
      "source": [
        "#unpacking some elements"
      ]
    },
    {
      "cell_type": "code",
      "metadata": {
        "id": "h-zFPvU-fJNj",
        "colab_type": "code",
        "colab": {
          "base_uri": "https://localhost:8080/",
          "height": 67
        },
        "outputId": "64faecc6-4ece-4984-90e1-8136bf2fff83"
      },
      "source": [
        "a, *y, e = x\n",
        "print(a)\n",
        "print(y)\n",
        "print(e)"
      ],
      "execution_count": null,
      "outputs": [
        {
          "output_type": "stream",
          "text": [
            "1\n",
            "[2, 4, 8]\n",
            "16\n"
          ],
          "name": "stdout"
        }
      ]
    },
    {
      "cell_type": "markdown",
      "metadata": {
        "id": "fzi_irfOfaeh",
        "colab_type": "text"
      },
      "source": [
        "#Using Chaining to Write Concise Code"
      ]
    },
    {
      "cell_type": "code",
      "metadata": {
        "id": "SXwAdtQ6fhq-",
        "colab_type": "code",
        "colab": {
          "base_uri": "https://localhost:8080/",
          "height": 34
        },
        "outputId": "adc66461-4b8b-471a-8556-7f2c0ed19dac"
      },
      "source": [
        "x = 4\n",
        "print(x >= 2 and x <= 8)"
      ],
      "execution_count": null,
      "outputs": [
        {
          "output_type": "stream",
          "text": [
            "True\n"
          ],
          "name": "stdout"
        }
      ]
    },
    {
      "cell_type": "markdown",
      "metadata": {
        "id": "3UARkAzsfmgq",
        "colab_type": "text"
      },
      "source": [
        "#Instead, you can write this in a more compact form, like mathematicians do:"
      ]
    },
    {
      "cell_type": "code",
      "metadata": {
        "id": "IeUK0FLNfrka",
        "colab_type": "code",
        "colab": {
          "base_uri": "https://localhost:8080/",
          "height": 50
        },
        "outputId": "ece68d3a-4c3c-463d-b013-9172c6cd0f82"
      },
      "source": [
        "print(2 <= x <= 8)\n",
        "print(2 <= x <= 3)"
      ],
      "execution_count": null,
      "outputs": [
        {
          "output_type": "stream",
          "text": [
            "True\n",
            "False\n"
          ],
          "name": "stdout"
        }
      ]
    },
    {
      "cell_type": "markdown",
      "metadata": {
        "id": "nYxSUeOUfvyJ",
        "colab_type": "text"
      },
      "source": [
        "#chained assignments"
      ]
    },
    {
      "cell_type": "code",
      "metadata": {
        "id": "-Ghbit6tfzx2",
        "colab_type": "code",
        "colab": {
          "base_uri": "https://localhost:8080/",
          "height": 34
        },
        "outputId": "4e60be52-15d3-421a-fc8d-105d3d298b7a"
      },
      "source": [
        "x = y = z = 2\n",
        "x, y, z # when we use , it becomes tuple"
      ],
      "execution_count": null,
      "outputs": [
        {
          "output_type": "execute_result",
          "data": {
            "text/plain": [
              "(2, 2, 2)"
            ]
          },
          "metadata": {
            "tags": []
          },
          "execution_count": 10
        }
      ]
    },
    {
      "cell_type": "markdown",
      "metadata": {
        "id": "XP08BjH7f86m",
        "colab_type": "text"
      },
      "source": [
        "#Checking against None"
      ]
    },
    {
      "cell_type": "code",
      "metadata": {
        "id": "Jj0BJRtsgAs7",
        "colab_type": "code",
        "colab": {
          "base_uri": "https://localhost:8080/",
          "height": 84
        },
        "outputId": "1009646a-bc1c-4d45-f697-b855de4240ea"
      },
      "source": [
        "# normal way\n",
        "x, y = 2, None\n",
        "print(x == None)\n",
        "print(y == None)\n",
        "print(x != None)\n",
        "print(y != None)"
      ],
      "execution_count": null,
      "outputs": [
        {
          "output_type": "stream",
          "text": [
            "False\n",
            "True\n",
            "True\n",
            "False\n"
          ],
          "name": "stdout"
        }
      ]
    },
    {
      "cell_type": "markdown",
      "metadata": {
        "id": "Kn60D7lHgE93",
        "colab_type": "text"
      },
      "source": [
        "#In pythonic way"
      ]
    },
    {
      "cell_type": "code",
      "metadata": {
        "id": "C4raawtzgIXw",
        "colab_type": "code",
        "colab": {
          "base_uri": "https://localhost:8080/",
          "height": 84
        },
        "outputId": "16c76670-1e75-4ec4-a4f0-0455dff86af2"
      },
      "source": [
        "x is None\n",
        "print(x is None)\n",
        "print(y is None)\n",
        "print(x is not None)\n",
        "print(y is not None)"
      ],
      "execution_count": null,
      "outputs": [
        {
          "output_type": "stream",
          "text": [
            "False\n",
            "True\n",
            "True\n",
            "False\n"
          ],
          "name": "stdout"
        }
      ]
    },
    {
      "cell_type": "markdown",
      "metadata": {
        "id": "HorzEhvtgPfe",
        "colab_type": "text"
      },
      "source": [
        "#Iterating over Sequences"
      ]
    },
    {
      "cell_type": "code",
      "metadata": {
        "id": "0jO7cIp7gThv",
        "colab_type": "code",
        "colab": {
          "base_uri": "https://localhost:8080/",
          "height": 101
        },
        "outputId": "c1bd6825-4c24-4e51-a620-e95aaccc4775"
      },
      "source": [
        "x = [1, 2, 4, 8, 16]\n",
        "for i in range(len(x)):\n",
        "  print(x[i])"
      ],
      "execution_count": null,
      "outputs": [
        {
          "output_type": "stream",
          "text": [
            "1\n",
            "2\n",
            "4\n",
            "8\n",
            "16\n"
          ],
          "name": "stdout"
        }
      ]
    },
    {
      "cell_type": "markdown",
      "metadata": {
        "id": "d_X2m9TcgbfD",
        "colab_type": "text"
      },
      "source": [
        "#But instead we can do like this in elegant way\n"
      ]
    },
    {
      "cell_type": "code",
      "metadata": {
        "id": "7dMny2Ofge8q",
        "colab_type": "code",
        "colab": {
          "base_uri": "https://localhost:8080/",
          "height": 101
        },
        "outputId": "06bb8856-bd35-47df-f269-c7a965b87b9a"
      },
      "source": [
        "for item in x:\n",
        "  print(item)"
      ],
      "execution_count": null,
      "outputs": [
        {
          "output_type": "stream",
          "text": [
            "1\n",
            "2\n",
            "4\n",
            "8\n",
            "16\n"
          ],
          "name": "stdout"
        }
      ]
    },
    {
      "cell_type": "markdown",
      "metadata": {
        "id": "VczMkN_qgi-y",
        "colab_type": "text"
      },
      "source": [
        "#to iterate in the reversed order"
      ]
    },
    {
      "cell_type": "code",
      "metadata": {
        "id": "Qwvbj1ONgmFB",
        "colab_type": "code",
        "colab": {
          "base_uri": "https://localhost:8080/",
          "height": 101
        },
        "outputId": "c54fd426-321e-44d5-a098-916dc3e9f9e1"
      },
      "source": [
        "for i in range(len(x)-1, -1, -1):\n",
        "  print(x[i])"
      ],
      "execution_count": null,
      "outputs": [
        {
          "output_type": "stream",
          "text": [
            "16\n",
            "8\n",
            "4\n",
            "2\n",
            "1\n"
          ],
          "name": "stdout"
        }
      ]
    },
    {
      "cell_type": "markdown",
      "metadata": {
        "id": "7hf63G-igpVZ",
        "colab_type": "text"
      },
      "source": [
        "#But in elegant way!"
      ]
    },
    {
      "cell_type": "code",
      "metadata": {
        "id": "xj6TbEfegshi",
        "colab_type": "code",
        "colab": {
          "base_uri": "https://localhost:8080/",
          "height": 101
        },
        "outputId": "04fc3954-9681-497f-92e1-b2202a47833a"
      },
      "source": [
        "for item in x[::-1]:\n",
        " print(item)\n"
      ],
      "execution_count": null,
      "outputs": [
        {
          "output_type": "stream",
          "text": [
            "16\n",
            "8\n",
            "4\n",
            "2\n",
            "1\n"
          ],
          "name": "stdout"
        }
      ]
    },
    {
      "cell_type": "markdown",
      "metadata": {
        "id": "GkuhSup-gz6y",
        "colab_type": "text"
      },
      "source": [
        "#The Pythonic way is to use reversed to get an iterator that yields the items of a\n",
        "#sequence in the reversed order:"
      ]
    },
    {
      "cell_type": "code",
      "metadata": {
        "id": "N-6YFSnFg7bP",
        "colab_type": "code",
        "colab": {
          "base_uri": "https://localhost:8080/",
          "height": 101
        },
        "outputId": "57c0d9ea-4f17-48fd-e020-a0fde6ac13b6"
      },
      "source": [
        "for item in reversed(x):\n",
        "  print(item)"
      ],
      "execution_count": null,
      "outputs": [
        {
          "output_type": "stream",
          "text": [
            "16\n",
            "8\n",
            "4\n",
            "2\n",
            "1\n"
          ],
          "name": "stdout"
        }
      ]
    },
    {
      "cell_type": "markdown",
      "metadata": {
        "id": "vdMKCqDsg_es",
        "colab_type": "text"
      },
      "source": [
        "#Sometimes you need both the items from a sequence and the corresponding indices:"
      ]
    },
    {
      "cell_type": "code",
      "metadata": {
        "id": "wBKmc29ShC7C",
        "colab_type": "code",
        "colab": {
          "base_uri": "https://localhost:8080/",
          "height": 101
        },
        "outputId": "18829590-f0a1-4f7f-f1f2-982a0da0ff6d"
      },
      "source": [
        "for i in range(len(x)):\n",
        "  print(i, x[i])"
      ],
      "execution_count": null,
      "outputs": [
        {
          "output_type": "stream",
          "text": [
            "0 1\n",
            "1 2\n",
            "2 4\n",
            "3 8\n",
            "4 16\n"
          ],
          "name": "stdout"
        }
      ]
    },
    {
      "cell_type": "markdown",
      "metadata": {
        "id": "-cXS7bbihKYC",
        "colab_type": "text"
      },
      "source": [
        "#It’s better to use enumerate to get another iterator that yields the tuples with the indices\n",
        "#and items:"
      ]
    },
    {
      "cell_type": "code",
      "metadata": {
        "id": "3BGfWaeNhPwR",
        "colab_type": "code",
        "colab": {
          "base_uri": "https://localhost:8080/",
          "height": 101
        },
        "outputId": "6e4ce6cc-0cf6-46aa-d722-65ad9d548965"
      },
      "source": [
        "for i, item in enumerate(x):\n",
        "  print(i, item)"
      ],
      "execution_count": null,
      "outputs": [
        {
          "output_type": "stream",
          "text": [
            "0 1\n",
            "1 2\n",
            "2 4\n",
            "3 8\n",
            "4 16\n"
          ],
          "name": "stdout"
        }
      ]
    },
    {
      "cell_type": "markdown",
      "metadata": {
        "id": "OAsXOoUnhUvl",
        "colab_type": "text"
      },
      "source": [
        "#what if you want to iterate over two or more sequences? Of course, you can use the\n",
        "#range again:"
      ]
    },
    {
      "cell_type": "code",
      "metadata": {
        "id": "TnIZT9rxhZ7E",
        "colab_type": "code",
        "colab": {
          "base_uri": "https://localhost:8080/",
          "height": 101
        },
        "outputId": "0d953eec-1435-4efd-b023-fba672c3b4f8"
      },
      "source": [
        "y = 'abcde'\n",
        "for i in range(len(x)):\n",
        "  print(x[i], y[i])"
      ],
      "execution_count": null,
      "outputs": [
        {
          "output_type": "stream",
          "text": [
            "1 a\n",
            "2 b\n",
            "4 c\n",
            "8 d\n",
            "16 e\n"
          ],
          "name": "stdout"
        }
      ]
    },
    {
      "cell_type": "markdown",
      "metadata": {
        "id": "ubzyyZ43hec8",
        "colab_type": "text"
      },
      "source": [
        "#In this case, Python also offers a better solution. You can apply zip and get tuples of the\n",
        "#corresponding items:"
      ]
    },
    {
      "cell_type": "code",
      "metadata": {
        "id": "U7hb_KxFhjG6",
        "colab_type": "code",
        "colab": {
          "base_uri": "https://localhost:8080/",
          "height": 101
        },
        "outputId": "f9d5e0a7-dec8-4734-e8f9-f39b9909d818"
      },
      "source": [
        "for item in zip(x, y):\n",
        "  print(item)\n"
      ],
      "execution_count": null,
      "outputs": [
        {
          "output_type": "stream",
          "text": [
            "(1, 'a')\n",
            "(2, 'b')\n",
            "(4, 'c')\n",
            "(8, 'd')\n",
            "(16, 'e')\n"
          ],
          "name": "stdout"
        }
      ]
    },
    {
      "cell_type": "markdown",
      "metadata": {
        "id": "pTKG7ca4hpYW",
        "colab_type": "text"
      },
      "source": [
        "#You can combine it with unpacking:"
      ]
    },
    {
      "cell_type": "code",
      "metadata": {
        "id": "LdaSOtXShsf9",
        "colab_type": "code",
        "colab": {
          "base_uri": "https://localhost:8080/",
          "height": 101
        },
        "outputId": "5a8abe47-13a0-4abd-88a5-aa73f38298c9"
      },
      "source": [
        "for x_item, y_item in zip(x, y):\n",
        "  print(x_item, y_item)\n"
      ],
      "execution_count": null,
      "outputs": [
        {
          "output_type": "stream",
          "text": [
            "1 a\n",
            "2 b\n",
            "4 c\n",
            "8 d\n",
            "16 e\n"
          ],
          "name": "stdout"
        }
      ]
    },
    {
      "cell_type": "markdown",
      "metadata": {
        "id": "UCy8NDO4hwi1",
        "colab_type": "text"
      },
      "source": [
        "#Dictionary can be iterated in these two ways"
      ]
    },
    {
      "cell_type": "code",
      "metadata": {
        "id": "Klk16Sl0h03e",
        "colab_type": "code",
        "colab": {
          "base_uri": "https://localhost:8080/",
          "height": 50
        },
        "outputId": "4a3da6e7-5413-4b44-db05-d7d39782d1b7"
      },
      "source": [
        "z = {'a': 0, 'b': 1}\n",
        "for k in z:\n",
        "  print(k, z[k])\n"
      ],
      "execution_count": null,
      "outputs": [
        {
          "output_type": "stream",
          "text": [
            "a 0\n",
            "b 1\n"
          ],
          "name": "stdout"
        }
      ]
    },
    {
      "cell_type": "code",
      "metadata": {
        "id": "Gwqmi-81iFlU",
        "colab_type": "code",
        "colab": {
          "base_uri": "https://localhost:8080/",
          "height": 50
        },
        "outputId": "78da723b-1c79-4722-d58d-99812d43f7d1"
      },
      "source": [
        "for k, v in z.items():\n",
        "  print(k, v)\n"
      ],
      "execution_count": null,
      "outputs": [
        {
          "output_type": "stream",
          "text": [
            "a 0\n",
            "b 1\n"
          ],
          "name": "stdout"
        }
      ]
    },
    {
      "cell_type": "markdown",
      "metadata": {
        "id": "aCyEwawziLEc",
        "colab_type": "text"
      },
      "source": [
        "#Comparing to Zero"
      ]
    },
    {
      "cell_type": "code",
      "metadata": {
        "id": "G3IkfemAiOk6",
        "colab_type": "code",
        "colab": {
          "base_uri": "https://localhost:8080/",
          "height": 84
        },
        "outputId": "dcb341e1-e3d7-4654-de2c-0e797a5fee82"
      },
      "source": [
        "#To print only non zero values from tuple x\n",
        "x = (1, 2, 0, 3, 0, 4)\n",
        "for item in x:\n",
        "    if item != 0:\n",
        "      print(item)\n"
      ],
      "execution_count": null,
      "outputs": [
        {
          "output_type": "stream",
          "text": [
            "1\n",
            "2\n",
            "3\n",
            "4\n"
          ],
          "name": "stdout"
        }
      ]
    },
    {
      "cell_type": "markdown",
      "metadata": {
        "id": "bEBL67k3iSsF",
        "colab_type": "text"
      },
      "source": [
        "#The Pythonic way is to exploit the fact that zero is interpreted as False in a Boolean\n",
        "#context, while all other numbers are considered as True:"
      ]
    },
    {
      "cell_type": "code",
      "metadata": {
        "id": "MH4ZzLtViWRj",
        "colab_type": "code",
        "colab": {
          "base_uri": "https://localhost:8080/",
          "height": 84
        },
        "outputId": "5841b1fe-ad9a-48d9-b1d1-bf1a2a2f6512"
      },
      "source": [
        "for item in x:\n",
        "  if item:\n",
        "    print(item)"
      ],
      "execution_count": null,
      "outputs": [
        {
          "output_type": "stream",
          "text": [
            "1\n",
            "2\n",
            "3\n",
            "4\n"
          ],
          "name": "stdout"
        }
      ]
    },
    {
      "cell_type": "markdown",
      "metadata": {
        "id": "3Si8eaLljAxM",
        "colab_type": "text"
      },
      "source": [
        "#Avoiding Mutable Optional Arguments"
      ]
    },
    {
      "cell_type": "code",
      "metadata": {
        "id": "T_RJsxrijCPp",
        "colab_type": "code",
        "colab": {
          "base_uri": "https://localhost:8080/",
          "height": 34
        },
        "outputId": "c2f546e8-3919-4124-b2dc-cf6b4fbda54c"
      },
      "source": [
        "def func(value, seq=[]):\n",
        "  seq.append(value)\n",
        "  return seq\n",
        "print(func(value=2))"
      ],
      "execution_count": null,
      "outputs": [
        {
          "output_type": "stream",
          "text": [
            "[2]\n"
          ],
          "name": "stdout"
        }
      ]
    },
    {
      "cell_type": "code",
      "metadata": {
        "id": "wJ-fX_g1jHdP",
        "colab_type": "code",
        "colab": {
          "base_uri": "https://localhost:8080/",
          "height": 67
        },
        "outputId": "fd7827f6-4c5d-42ac-94a6-2149dfed093e"
      },
      "source": [
        "print(func(value=4))\n",
        "print(func(value=6))\n",
        "print(func(value=8))\n"
      ],
      "execution_count": null,
      "outputs": [
        {
          "output_type": "stream",
          "text": [
            "[2, 4]\n",
            "[2, 4, 6]\n",
            "[2, 4, 6, 8]\n"
          ],
          "name": "stdout"
        }
      ]
    },
    {
      "cell_type": "markdown",
      "metadata": {
        "id": "OIc3S7tpjNiK",
        "colab_type": "text"
      },
      "source": [
        "#keep away from that with some additional logic."
      ]
    },
    {
      "cell_type": "code",
      "metadata": {
        "id": "4bxxGdVijPDL",
        "colab_type": "code",
        "colab": {
          "base_uri": "https://localhost:8080/",
          "height": 34
        },
        "outputId": "4d26b606-c33d-4793-939e-45c380e56cea"
      },
      "source": [
        "def func(value, seq=None):\n",
        "  if seq is None:\n",
        "    seq = []\n",
        "    seq.append(value)\n",
        "    return seq\n",
        "print(func(value=6))\n"
      ],
      "execution_count": null,
      "outputs": [
        {
          "output_type": "stream",
          "text": [
            "[6]\n"
          ],
          "name": "stdout"
        }
      ]
    }
  ]
}