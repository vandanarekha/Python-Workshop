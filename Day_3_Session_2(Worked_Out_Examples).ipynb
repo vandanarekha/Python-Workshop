{
  "nbformat": 4,
  "nbformat_minor": 0,
  "metadata": {
    "colab": {
      "name": "Day 3 Session 2(Worked Out Examples)",
      "provenance": [],
      "collapsed_sections": [],
      "authorship_tag": "ABX9TyPS6tZq3c42P+g6q91w5oKP",
      "include_colab_link": true
    },
    "kernelspec": {
      "name": "python3",
      "display_name": "Python 3"
    }
  },
  "cells": [
    {
      "cell_type": "markdown",
      "metadata": {
        "id": "view-in-github",
        "colab_type": "text"
      },
      "source": [
        "<a href=\"https://colab.research.google.com/github/vandanarekha/Python-Workshop/blob/master/Day_3_Session_2(Worked_Out_Examples).ipynb\" target=\"_parent\"><img src=\"https://colab.research.google.com/assets/colab-badge.svg\" alt=\"Open In Colab\"/></a>"
      ]
    },
    {
      "cell_type": "markdown",
      "metadata": {
        "id": "G4T4dFWxkSeG",
        "colab_type": "text"
      },
      "source": [
        "#Finding the factorial of a number"
      ]
    },
    {
      "cell_type": "code",
      "metadata": {
        "id": "bjGc4rOZkVpo",
        "colab_type": "code",
        "colab": {
          "base_uri": "https://localhost:8080/",
          "height": 67
        },
        "outputId": "99e3c22c-5174-438a-c9b8-781de0aeb5ab"
      },
      "source": [
        "#Python Program to find the factorial of a number using loop. \n",
        "n=int(input(\"Enter number:\"))\n",
        "fact=1\n",
        "while(n>0):\n",
        "    fact=fact*n\n",
        "    n=n-1\n",
        "print(\"Factorial of the number is: \")\n",
        "print(fact)\n"
      ],
      "execution_count": null,
      "outputs": [
        {
          "output_type": "stream",
          "text": [
            "Enter number:5\n",
            "Factorial of the number is: \n",
            "120\n"
          ],
          "name": "stdout"
        }
      ]
    },
    {
      "cell_type": "markdown",
      "metadata": {
        "id": "HR8IwfoEkf8k",
        "colab_type": "text"
      },
      "source": [
        "#Program for multiples of 2 of a list without list comprehension"
      ]
    },
    {
      "cell_type": "code",
      "metadata": {
        "id": "ZrTOOZdWklgH",
        "colab_type": "code",
        "colab": {
          "base_uri": "https://localhost:8080/",
          "height": 34
        },
        "outputId": "f10fec94-c6f7-4686-9689-c408f3fe7631"
      },
      "source": [
        "x=[1, 2, 3, 4, 5, 6]\n",
        "result = []\n",
        "for idx in range(len(x)):\n",
        "  result.append(x[idx] * 2)\n",
        "print(result)"
      ],
      "execution_count": null,
      "outputs": [
        {
          "output_type": "stream",
          "text": [
            "[2, 4, 6, 8, 10, 12]\n"
          ],
          "name": "stdout"
        }
      ]
    },
    {
      "cell_type": "markdown",
      "metadata": {
        "id": "r3cXSVV6kqYo",
        "colab_type": "text"
      },
      "source": [
        "#Single line program of Pythonic coding"
      ]
    },
    {
      "cell_type": "code",
      "metadata": {
        "id": "tj2vFGhukvti",
        "colab_type": "code",
        "colab": {
          "base_uri": "https://localhost:8080/",
          "height": 34
        },
        "outputId": "d2c692fc-59b3-4472-f560-11476a19a1a8"
      },
      "source": [
        "print([i*2 for i in [1, 2, 3, 4, 5, 6] ])"
      ],
      "execution_count": null,
      "outputs": [
        {
          "output_type": "stream",
          "text": [
            "[2, 4, 6, 8, 10, 12]\n"
          ],
          "name": "stdout"
        }
      ]
    },
    {
      "cell_type": "markdown",
      "metadata": {
        "id": "m6Yq-P-BkzhC",
        "colab_type": "text"
      },
      "source": [
        "#More Pythonic program of 3 lines!"
      ]
    },
    {
      "cell_type": "code",
      "metadata": {
        "id": "fBgojL3rk22c",
        "colab_type": "code",
        "colab": {
          "base_uri": "https://localhost:8080/",
          "height": 50
        },
        "outputId": "8fece822-8580-478d-e8e9-082fd90b95be"
      },
      "source": [
        "from functools import reduce\n",
        "sequences = [x for x in range(1,int(input('Enter no'))+1)]\n",
        "product = reduce(lambda x, y: x*y, sequences)\n",
        "print(product)\n"
      ],
      "execution_count": null,
      "outputs": [
        {
          "output_type": "stream",
          "text": [
            "Enter no5\n",
            "120\n"
          ],
          "name": "stdout"
        }
      ]
    },
    {
      "cell_type": "markdown",
      "metadata": {
        "id": "p2FUBW_TlCgB",
        "colab_type": "text"
      },
      "source": [
        "#Number and its square as Tuple for a range"
      ]
    },
    {
      "cell_type": "code",
      "metadata": {
        "id": "FbsMNfGWlEPa",
        "colab_type": "code",
        "colab": {
          "base_uri": "https://localhost:8080/",
          "height": 67
        },
        "outputId": "0b87a161-c0ff-4286-bb19-15d2f35b9770"
      },
      "source": [
        "l_range=int(input(\"Enter the lower range:\"))\n",
        "u_range=int(input(\"Enter the upper range:\"))\n",
        "a=[(x,x**2) for x in range(l_range,u_range+1)]\n",
        "print(a)"
      ],
      "execution_count": null,
      "outputs": [
        {
          "output_type": "stream",
          "text": [
            "Enter the lower range:2\n",
            "Enter the upper range:5\n",
            "[(2, 4), (3, 9), (4, 16), (5, 25)]\n"
          ],
          "name": "stdout"
        }
      ]
    },
    {
      "cell_type": "markdown",
      "metadata": {
        "id": "aAtPLGt4mYsx",
        "colab_type": "text"
      },
      "source": [
        "#The most Pythonic program of a single line program is given below"
      ]
    },
    {
      "cell_type": "code",
      "metadata": {
        "id": "6XqaEqyCmfIC",
        "colab_type": "code",
        "colab": {
          "base_uri": "https://localhost:8080/",
          "height": 67
        },
        "outputId": "4c9f32c5-bc9f-47a0-87a8-249bfc98a94d"
      },
      "source": [
        "print([(x,x**2) for x in range(int(input(\"Enter the lower range:\")),\\\n",
        "                           int(input(\"Enter the upper range:\"))+1)])"
      ],
      "execution_count": null,
      "outputs": [
        {
          "output_type": "stream",
          "text": [
            "Enter the lower range:2\n",
            "Enter the upper range:7\n",
            "[(2, 4), (3, 9), (4, 16), (5, 25), (6, 36), (7, 49)]\n"
          ],
          "name": "stdout"
        }
      ]
    },
    {
      "cell_type": "markdown",
      "metadata": {
        "id": "05Ry0PH8mk_i",
        "colab_type": "text"
      },
      "source": [
        "#Finding the perfect squares"
      ]
    },
    {
      "cell_type": "code",
      "metadata": {
        "id": "FbsYpeFImpHU",
        "colab_type": "code",
        "colab": {
          "base_uri": "https://localhost:8080/",
          "height": 34
        },
        "outputId": "ea43863e-0794-4009-86c8-89206768376f"
      },
      "source": [
        "from math import *\n",
        "sequences = [10,2,8,7,5,4,3,11,0,9,16,1]\n",
        "result=[]\n",
        "for i in sequences:\n",
        "  if int(sqrt(i))**2==i:\n",
        "    result.append(i)\n",
        "print(result)\n"
      ],
      "execution_count": null,
      "outputs": [
        {
          "output_type": "stream",
          "text": [
            "[4, 0, 9, 16, 1]\n"
          ],
          "name": "stdout"
        }
      ]
    },
    {
      "cell_type": "markdown",
      "metadata": {
        "id": "pO3P9MEhmvum",
        "colab_type": "text"
      },
      "source": [
        "#Pythonic program of 3 lines!"
      ]
    },
    {
      "cell_type": "code",
      "metadata": {
        "id": "56tR216ZmxO6",
        "colab_type": "code",
        "colab": {
          "base_uri": "https://localhost:8080/",
          "height": 34
        },
        "outputId": "ff2920d0-4cb6-4a06-ca0f-779434e7f27a"
      },
      "source": [
        "sequences = [10,2,8,7,5,4,3,11,0,9,16,1]\n",
        "filtered_result = filter(lambda x: int(sqrt(x))**2==x, sequences) \n",
        "print(list(filtered_result))\n"
      ],
      "execution_count": null,
      "outputs": [
        {
          "output_type": "stream",
          "text": [
            "[4, 0, 9, 16, 1]\n"
          ],
          "name": "stdout"
        }
      ]
    },
    {
      "cell_type": "markdown",
      "metadata": {
        "id": "0IXoV8S4m4_R",
        "colab_type": "text"
      },
      "source": [
        "#Program to nd the largest number in a list."
      ]
    },
    {
      "cell_type": "code",
      "metadata": {
        "id": "vYBP7XTwm6At",
        "colab_type": "code",
        "colab": {
          "base_uri": "https://localhost:8080/",
          "height": 84
        },
        "outputId": "20bc766b-47fe-4304-bc74-1bf71917013f"
      },
      "source": [
        "a=[]\n",
        "n=int(input(\"Enter number of elements:\"))\n",
        "for i in range(1,n+1):\n",
        "    b=int(input(\"Enter element:\"))\n",
        "    a.append(b)\n",
        "a.sort()\n",
        "print(\"Largest element is:\",a[n-1])\n"
      ],
      "execution_count": null,
      "outputs": [
        {
          "output_type": "stream",
          "text": [
            "Enter number of elements:2\n",
            "Enter element:5\n",
            "Enter element:8\n",
            "Largest element is: 8\n"
          ],
          "name": "stdout"
        }
      ]
    },
    {
      "cell_type": "markdown",
      "metadata": {
        "id": "_XRYvLrynAtZ",
        "colab_type": "text"
      },
      "source": [
        "#Try this More pythonic 2 lines program equivalent to above codings as shown below !\n"
      ]
    },
    {
      "cell_type": "code",
      "metadata": {
        "id": "uxpv9FjgnE-1",
        "colab_type": "code",
        "colab": {
          "base_uri": "https://localhost:8080/",
          "height": 134
        },
        "outputId": "5f627f14-cdc9-4a49-d69f-614c3b26f588"
      },
      "source": [
        "x=0\n",
        "print('The greatest no is',max([int(input(x)) for _ in range(int(input(\"Enter no\")))]))"
      ],
      "execution_count": null,
      "outputs": [
        {
          "output_type": "stream",
          "text": [
            "Enter no5\n",
            "6\n",
            "7\n",
            "9\n",
            "0\n",
            "5\n",
            "The greatest no is 9\n"
          ],
          "name": "stdout"
        }
      ]
    },
    {
      "cell_type": "markdown",
      "metadata": {
        "id": "sYLZH67SnN_K",
        "colab_type": "text"
      },
      "source": [
        "#Program to put the even and odd elements in a list into two different lists."
      ]
    },
    {
      "cell_type": "code",
      "metadata": {
        "id": "fhvgafzrnSda",
        "colab_type": "code",
        "colab": {
          "base_uri": "https://localhost:8080/",
          "height": 118
        },
        "outputId": "88a2af81-92cc-4376-8c04-8f5f254df6fa"
      },
      "source": [
        "a=[]\n",
        "n=int(input(\"Enter number of elements:\"))\n",
        "for i in range(1,n+1):\n",
        "    b=int(input(\"Enter element:\"))\n",
        "    a.append(b)\n",
        "even=[]\n",
        "odd=[]\n",
        "for j in a:\n",
        "    if(j%2==0):\n",
        "        even.append(j)\n",
        "    else:\n",
        "        odd.append(j)\n",
        "print(\"The even list\",even)\n",
        "print(\"The odd list\",odd)"
      ],
      "execution_count": null,
      "outputs": [
        {
          "output_type": "stream",
          "text": [
            "Enter number of elements:3\n",
            "Enter element:5\n",
            "Enter element:9\n",
            "Enter element:3\n",
            "The even list []\n",
            "The odd list [5, 9, 3]\n"
          ],
          "name": "stdout"
        }
      ]
    },
    {
      "cell_type": "markdown",
      "metadata": {
        "id": "7srvToeFnaqj",
        "colab_type": "text"
      },
      "source": [
        "#Instead of forementioned 14 lines program, the equivalent 4 lines !"
      ]
    },
    {
      "cell_type": "code",
      "metadata": {
        "id": "ajEMzAhznfA3",
        "colab_type": "code",
        "colab": {
          "base_uri": "https://localhost:8080/",
          "height": 134
        },
        "outputId": "76807df9-c5c2-43a5-9439-58ffdea05bda"
      },
      "source": [
        "x=0\n",
        "l=[int(input(x)) for _ in range(int(input(\"Enter n\")))]\n",
        "print('odd list is',[ i for i in l if i%2])\n",
        "print('even list is',[i for i in l if not i%2])"
      ],
      "execution_count": null,
      "outputs": [
        {
          "output_type": "stream",
          "text": [
            "Enter n4\n",
            "5\n",
            "65\n",
            "87\n",
            "11\n",
            "odd list is [5, 65, 87, 11]\n",
            "even list is []\n"
          ],
          "name": "stdout"
        }
      ]
    },
    {
      "cell_type": "markdown",
      "metadata": {
        "id": "avVEKrN9nmya",
        "colab_type": "text"
      },
      "source": [
        "#Python Program to merge two lists and sort it."
      ]
    },
    {
      "cell_type": "code",
      "metadata": {
        "id": "efvBnOcQnr2i",
        "colab_type": "code",
        "colab": {
          "base_uri": "https://localhost:8080/",
          "height": 185
        },
        "outputId": "5bfc8aba-5768-4eb5-f598-721750ca9784"
      },
      "source": [
        "a=[]\n",
        "c=[]\n",
        "n1=int(input(\"Enter number of elements:\"))\n",
        "for i in range(1,n1+1):\n",
        "    b=int(input(\"Enter element:\"))\n",
        "    a.append(b)\n",
        "n2=int(input(\"Enter number of elements:\"))\n",
        "for i in range(1,n2+1):\n",
        "    d=int(input(\"Enter element:\"))\n",
        "    c.append(d)\n",
        "new=a+c\n",
        "new.sort()\n",
        "print(\"Sorted list is:\",new)\n"
      ],
      "execution_count": null,
      "outputs": [
        {
          "output_type": "stream",
          "text": [
            "Enter number of elements:5\n",
            "Enter element:56\n",
            "Enter element:78\n",
            "Enter element:09\n",
            "Enter element:57\n",
            "Enter element:44\n",
            "Enter number of elements:2\n",
            "Enter element:56\n",
            "Enter element:88\n",
            "Sorted list is: [9, 44, 56, 56, 57, 78, 88]\n"
          ],
          "name": "stdout"
        }
      ]
    },
    {
      "cell_type": "markdown",
      "metadata": {
        "id": "C1fRKvaxn4Lb",
        "colab_type": "text"
      },
      "source": [
        "#Program for multiples of 2 of a list without list comprehension"
      ]
    },
    {
      "cell_type": "code",
      "metadata": {
        "id": "8IoAeNbaQ5o9",
        "colab_type": "code",
        "colab": {
          "base_uri": "https://localhost:8080/",
          "height": 34
        },
        "outputId": "3ac950de-98ef-43f8-8b2f-861433d6c2ac"
      },
      "source": [
        "x=[1, 2, 3, 4, 5, 6]\n",
        "result = []\n",
        "for idx in range(len(x)):\n",
        "  result.append(x[idx] * 2)\n",
        "print(result)\n"
      ],
      "execution_count": 1,
      "outputs": [
        {
          "output_type": "stream",
          "text": [
            "[2, 4, 6, 8, 10, 12]\n"
          ],
          "name": "stdout"
        }
      ]
    },
    {
      "cell_type": "markdown",
      "metadata": {
        "id": "9BIIs49zRFc-",
        "colab_type": "text"
      },
      "source": [
        "#Single line program of Pythonic coding"
      ]
    },
    {
      "cell_type": "code",
      "metadata": {
        "id": "a08GOe2TRGhC",
        "colab_type": "code",
        "colab": {
          "base_uri": "https://localhost:8080/",
          "height": 34
        },
        "outputId": "5d3edf70-05ff-4a17-a1fa-e224c49d598c"
      },
      "source": [
        "print([i*2 for i in [1, 2, 3, 4, 5, 6] ])"
      ],
      "execution_count": 2,
      "outputs": [
        {
          "output_type": "stream",
          "text": [
            "[2, 4, 6, 8, 10, 12]\n"
          ],
          "name": "stdout"
        }
      ]
    },
    {
      "cell_type": "markdown",
      "metadata": {
        "id": "RTFbjl8SRLfY",
        "colab_type": "text"
      },
      "source": [
        "#More Pythonic program of 3 lines!"
      ]
    },
    {
      "cell_type": "code",
      "metadata": {
        "id": "6G9r_h6XROfk",
        "colab_type": "code",
        "colab": {
          "base_uri": "https://localhost:8080/",
          "height": 50
        },
        "outputId": "cb266b57-8c1f-43c2-b26b-3d211589ac37"
      },
      "source": [
        "from functools import reduce\n",
        "sequences = [x for x in range(1,int(input('Enter no'))+1)]\n",
        "product = reduce(lambda x, y: x*y, sequences)\n",
        "print(product)\n"
      ],
      "execution_count": 3,
      "outputs": [
        {
          "output_type": "stream",
          "text": [
            "Enter no5\n",
            "120\n"
          ],
          "name": "stdout"
        }
      ]
    },
    {
      "cell_type": "markdown",
      "metadata": {
        "id": "hRJ0UcX3RWYn",
        "colab_type": "text"
      },
      "source": [
        "#Number and its square as Tuple for a range\n"
      ]
    },
    {
      "cell_type": "code",
      "metadata": {
        "id": "NHP2U96ZRYIA",
        "colab_type": "code",
        "colab": {
          "base_uri": "https://localhost:8080/",
          "height": 87
        },
        "outputId": "c59eb709-c1ac-4e8e-815c-1f20a97a3bef"
      },
      "source": [
        "l_range=int(input(\"Enter the lower range:\"))\n",
        "u_range=int(input(\"Enter the upper range:\"))\n",
        "a=[(x,x**2) for x in range(l_range,u_range+1)]\n",
        "print(a)\n"
      ],
      "execution_count": 4,
      "outputs": [
        {
          "output_type": "stream",
          "text": [
            "Enter the lower range:100\n",
            "Enter the upper range:200\n",
            "[(100, 10000), (101, 10201), (102, 10404), (103, 10609), (104, 10816), (105, 11025), (106, 11236), (107, 11449), (108, 11664), (109, 11881), (110, 12100), (111, 12321), (112, 12544), (113, 12769), (114, 12996), (115, 13225), (116, 13456), (117, 13689), (118, 13924), (119, 14161), (120, 14400), (121, 14641), (122, 14884), (123, 15129), (124, 15376), (125, 15625), (126, 15876), (127, 16129), (128, 16384), (129, 16641), (130, 16900), (131, 17161), (132, 17424), (133, 17689), (134, 17956), (135, 18225), (136, 18496), (137, 18769), (138, 19044), (139, 19321), (140, 19600), (141, 19881), (142, 20164), (143, 20449), (144, 20736), (145, 21025), (146, 21316), (147, 21609), (148, 21904), (149, 22201), (150, 22500), (151, 22801), (152, 23104), (153, 23409), (154, 23716), (155, 24025), (156, 24336), (157, 24649), (158, 24964), (159, 25281), (160, 25600), (161, 25921), (162, 26244), (163, 26569), (164, 26896), (165, 27225), (166, 27556), (167, 27889), (168, 28224), (169, 28561), (170, 28900), (171, 29241), (172, 29584), (173, 29929), (174, 30276), (175, 30625), (176, 30976), (177, 31329), (178, 31684), (179, 32041), (180, 32400), (181, 32761), (182, 33124), (183, 33489), (184, 33856), (185, 34225), (186, 34596), (187, 34969), (188, 35344), (189, 35721), (190, 36100), (191, 36481), (192, 36864), (193, 37249), (194, 37636), (195, 38025), (196, 38416), (197, 38809), (198, 39204), (199, 39601), (200, 40000)]\n"
          ],
          "name": "stdout"
        }
      ]
    },
    {
      "cell_type": "markdown",
      "metadata": {
        "id": "2_tsYTizRxBS",
        "colab_type": "text"
      },
      "source": [
        "#The most Pythonic program of a sinle line program is given below"
      ]
    },
    {
      "cell_type": "code",
      "metadata": {
        "id": "ujZSGaecR0DB",
        "colab_type": "code",
        "colab": {
          "base_uri": "https://localhost:8080/",
          "height": 67
        },
        "outputId": "d6d56b9d-2fbf-4375-958d-71008b798478"
      },
      "source": [
        "print([(x,x**2) for x in range(int(input(\"Enter the lower range:\")),\\\n",
        "                           int(input(\"Enter the upper range:\"))+1)])\n"
      ],
      "execution_count": 6,
      "outputs": [
        {
          "output_type": "stream",
          "text": [
            "Enter the lower range:10\n",
            "Enter the upper range:20\n",
            "[(10, 100), (11, 121), (12, 144), (13, 169), (14, 196), (15, 225), (16, 256), (17, 289), (18, 324), (19, 361), (20, 400)]\n"
          ],
          "name": "stdout"
        }
      ]
    },
    {
      "cell_type": "markdown",
      "metadata": {
        "id": "L_g-fQlyR59s",
        "colab_type": "text"
      },
      "source": [
        "#Finding the perfect squares"
      ]
    },
    {
      "cell_type": "code",
      "metadata": {
        "id": "0uu_x6hsR8lL",
        "colab_type": "code",
        "colab": {
          "base_uri": "https://localhost:8080/",
          "height": 34
        },
        "outputId": "2703ac3a-ffe7-4d32-8cfa-ff1efc70f9ff"
      },
      "source": [
        "from math import *\n",
        "sequences = [10,2,8,7,5,4,3,11,0,9,16,1]\n",
        "result=[]\n",
        "for i in sequences:\n",
        "  if int(sqrt(i))**2==i:\n",
        "    result.append(i)\n",
        "print(result)\n"
      ],
      "execution_count": 7,
      "outputs": [
        {
          "output_type": "stream",
          "text": [
            "[4, 0, 9, 16, 1]\n"
          ],
          "name": "stdout"
        }
      ]
    },
    {
      "cell_type": "markdown",
      "metadata": {
        "id": "J8WyWNc_SCb9",
        "colab_type": "text"
      },
      "source": [
        "#Pythonic program of 3 lines!"
      ]
    },
    {
      "cell_type": "code",
      "metadata": {
        "id": "w8rLYhXzSGL6",
        "colab_type": "code",
        "colab": {
          "base_uri": "https://localhost:8080/",
          "height": 34
        },
        "outputId": "9d29aad3-f75c-4b49-8b1d-73d4a80fafcd"
      },
      "source": [
        "sequences = [10,2,8,7,5,4,3,11,0,9,16,1]\n",
        "filtered_result = filter(lambda x: int(sqrt(x))**2==x, sequences) \n",
        "print(list(filtered_result))"
      ],
      "execution_count": 8,
      "outputs": [
        {
          "output_type": "stream",
          "text": [
            "[4, 0, 9, 16, 1]\n"
          ],
          "name": "stdout"
        }
      ]
    },
    {
      "cell_type": "markdown",
      "metadata": {
        "id": "EaBy3yYZSK__",
        "colab_type": "text"
      },
      "source": [
        "#Program to nd the largest number in a list."
      ]
    },
    {
      "cell_type": "code",
      "metadata": {
        "id": "828_SVU_SOGb",
        "colab_type": "code",
        "colab": {
          "base_uri": "https://localhost:8080/",
          "height": 101
        },
        "outputId": "476ec386-ae6f-4350-8383-a36a4d6c3455"
      },
      "source": [
        "a=[]\n",
        "n=int(input(\"Enter number of elements:\"))\n",
        "for i in range(1,n+1):\n",
        "    b=int(input(\"Enter element:\"))\n",
        "    a.append(b)\n",
        "a.sort()\n",
        "print(\"Largest element is:\",a[n-1])\n"
      ],
      "execution_count": 9,
      "outputs": [
        {
          "output_type": "stream",
          "text": [
            "Enter number of elements:3\n",
            "Enter element:24\n",
            "Enter element:25\n",
            "Enter element:26\n",
            "Largest element is: 26\n"
          ],
          "name": "stdout"
        }
      ]
    },
    {
      "cell_type": "markdown",
      "metadata": {
        "id": "OjmEkmG1SVrK",
        "colab_type": "text"
      },
      "source": [
        "#Try this More pythonic 2 lines program equivalent to above codings as shown below !\n"
      ]
    },
    {
      "cell_type": "code",
      "metadata": {
        "id": "HutJ_3ObSYSg",
        "colab_type": "code",
        "colab": {
          "base_uri": "https://localhost:8080/",
          "height": 101
        },
        "outputId": "16c5a4a3-366a-439c-c29c-a5597396ad5d"
      },
      "source": [
        "x=0\n",
        "print('The greatest no is',max([int(input(x)) for _ in range(int(input(\"Enter no\")))]))"
      ],
      "execution_count": 11,
      "outputs": [
        {
          "output_type": "stream",
          "text": [
            "Enter no3\n",
            "78\n",
            "90\n",
            "56\n",
            "The greatest no is 90\n"
          ],
          "name": "stdout"
        }
      ]
    },
    {
      "cell_type": "markdown",
      "metadata": {
        "id": "57HkkbLTSrh-",
        "colab_type": "text"
      },
      "source": [
        "#Program to put the even and odd elements in a list into two different lists"
      ]
    },
    {
      "cell_type": "code",
      "metadata": {
        "id": "IOCMNZ9lSu_G",
        "colab_type": "code",
        "colab": {
          "base_uri": "https://localhost:8080/",
          "height": 118
        },
        "outputId": "67c198dc-b9b9-49b9-92e8-72670971f08f"
      },
      "source": [
        "a=[]\n",
        "n=int(input(\"Enter number of elements:\"))\n",
        "for i in range(1,n+1):\n",
        "    b=int(input(\"Enter element:\"))\n",
        "    a.append(b)\n",
        "even=[]\n",
        "odd=[]\n",
        "for j in a:\n",
        "    if(j%2==0):\n",
        "        even.append(j)\n",
        "    else:\n",
        "        odd.append(j)\n",
        "print(\"The even list\",even)\n",
        "print(\"The odd list\",odd)\n"
      ],
      "execution_count": 12,
      "outputs": [
        {
          "output_type": "stream",
          "text": [
            "Enter number of elements:3\n",
            "Enter element:56\n",
            "Enter element:90\n",
            "Enter element:33\n",
            "The even list [56, 90]\n",
            "The odd list [33]\n"
          ],
          "name": "stdout"
        }
      ]
    },
    {
      "cell_type": "markdown",
      "metadata": {
        "id": "T7v1Q5PDS3CH",
        "colab_type": "text"
      },
      "source": [
        "#Instead of forementioned 14 lines program, the equivalent 4 lines !\n",
        "#Pythonic program is here ...."
      ]
    },
    {
      "cell_type": "code",
      "metadata": {
        "id": "4jEcOULETBRb",
        "colab_type": "code",
        "colab": {
          "base_uri": "https://localhost:8080/",
          "height": 118
        },
        "outputId": "ce01d79e-79c5-4459-d3c2-1010b2362534"
      },
      "source": [
        "x=0\n",
        "l=[int(input(x)) for _ in range(int(input(\"Enter n\")))]\n",
        "print('odd list is',[ i for i in l if i%2])\n",
        "print('even list is',[i for i in l if not i%2])"
      ],
      "execution_count": 13,
      "outputs": [
        {
          "output_type": "stream",
          "text": [
            "Enter n3\n",
            "34\n",
            "22\n",
            "10\n",
            "odd list is []\n",
            "even list is [34, 22, 10]\n"
          ],
          "name": "stdout"
        }
      ]
    },
    {
      "cell_type": "markdown",
      "metadata": {
        "id": "teGqT-rKTIBx",
        "colab_type": "text"
      },
      "source": [
        "#Python Program to merge two lists and sort it."
      ]
    },
    {
      "cell_type": "code",
      "metadata": {
        "id": "8Q1BgcI9TK-M",
        "colab_type": "code",
        "colab": {
          "base_uri": "https://localhost:8080/",
          "height": 168
        },
        "outputId": "f9a4da99-aadd-42b5-80f3-d88cc70acce2"
      },
      "source": [
        "a=[]\n",
        "c=[]\n",
        "n1=int(input(\"Enter number of elements:\"))\n",
        "for i in range(1,n1+1):\n",
        "    b=int(input(\"Enter element:\"))\n",
        "    a.append(b)\n",
        "n2=int(input(\"Enter number of elements:\"))\n",
        "for i in range(1,n2+1):\n",
        "    d=int(input(\"Enter element:\"))\n",
        "    c.append(d)\n",
        "new=a+c\n",
        "new.sort()\n",
        "print(\"Sorted list is:\",new)"
      ],
      "execution_count": 14,
      "outputs": [
        {
          "output_type": "stream",
          "text": [
            "Enter number of elements:3\n",
            "Enter element:12\n",
            "Enter element:45\n",
            "Enter element:67\n",
            "Enter number of elements:3\n",
            "Enter element:15\n",
            "Enter element:66\n",
            "Enter element:88\n",
            "Sorted list is: [12, 15, 45, 66, 67, 88]\n"
          ],
          "name": "stdout"
        }
      ]
    },
    {
      "cell_type": "markdown",
      "metadata": {
        "id": "tKf9Nl70TV4v",
        "colab_type": "text"
      },
      "source": [
        "#Instead of forementioned 13 lines program, the equivalent 5 lines !"
      ]
    },
    {
      "cell_type": "code",
      "metadata": {
        "id": "E8mIsicdTZpH",
        "colab_type": "code",
        "colab": {
          "base_uri": "https://localhost:8080/",
          "height": 151
        },
        "outputId": "197888b8-a6d3-422b-af1d-219104b86f4a"
      },
      "source": [
        "x=0\n",
        "l=[int(input(x)) for _ in range(int(input(\"Enter how many elements\")))]\n",
        "m=[int(input(x)) for _ in range(int(input(\"Enter how many elements \")))]\n",
        "new=l+m\n",
        "new.sort()\n",
        "print(\"Sorted list is:\",new)"
      ],
      "execution_count": 15,
      "outputs": [
        {
          "output_type": "stream",
          "text": [
            "Enter how many elements3\n",
            "34\n",
            "44\n",
            "55\n",
            "Enter how many elements 2\n",
            "14\n",
            "56\n",
            "Sorted list is: [14, 34, 44, 55, 56]\n"
          ],
          "name": "stdout"
        }
      ]
    },
    {
      "cell_type": "markdown",
      "metadata": {
        "id": "NRrH4VqmThLh",
        "colab_type": "text"
      },
      "source": [
        "#Python Program to sort the list according to the second element in the sublist"
      ]
    },
    {
      "cell_type": "code",
      "metadata": {
        "id": "5_ix2QogTmBG",
        "colab_type": "code",
        "colab": {
          "base_uri": "https://localhost:8080/",
          "height": 34
        },
        "outputId": "048e42e0-4b41-45ad-a740-f3ea6d39e170"
      },
      "source": [
        "a=[['A',34],['B',21],['C',26],['E',29]]\n",
        "for i in range(0,len(a)):\n",
        "    for j in range(i+1,len(a)):\n",
        "        if(a[i][1]>a[j][1]):\n",
        "            temp=a[j]\n",
        "            a[j]=a[i]\n",
        "            a[i]=temp\n",
        "print(a)\n"
      ],
      "execution_count": 16,
      "outputs": [
        {
          "output_type": "stream",
          "text": [
            "[['B', 21], ['C', 26], ['E', 29], ['A', 34]]\n"
          ],
          "name": "stdout"
        }
      ]
    },
    {
      "cell_type": "markdown",
      "metadata": {
        "id": "-5jjm75oTq3e",
        "colab_type": "text"
      },
      "source": [
        "#Instead of forementioned 8 lines program, the equivalent 3 lines !"
      ]
    },
    {
      "cell_type": "code",
      "metadata": {
        "id": "8pyNiW5iTu5X",
        "colab_type": "code",
        "colab": {
          "base_uri": "https://localhost:8080/",
          "height": 34
        },
        "outputId": "9e295e63-08a6-4fd9-8e56-932886c1ecfb"
      },
      "source": [
        "a=[['A',34],['B',21],['C',26],['E',29]]\n",
        "a.sort(key = lambda x: x[1]) \n",
        "print(a)\n"
      ],
      "execution_count": 17,
      "outputs": [
        {
          "output_type": "stream",
          "text": [
            "[['B', 21], ['C', 26], ['E', 29], ['A', 34]]\n"
          ],
          "name": "stdout"
        }
      ]
    },
    {
      "cell_type": "markdown",
      "metadata": {
        "id": "n3yu9fX9TzcB",
        "colab_type": "text"
      },
      "source": [
        "#Program to nd the second largest number in a list"
      ]
    },
    {
      "cell_type": "code",
      "metadata": {
        "id": "epVeYRgJT20F",
        "colab_type": "code",
        "colab": {
          "base_uri": "https://localhost:8080/",
          "height": 101
        },
        "outputId": "5a0fd039-6f29-48bc-b6e9-3795448a1a74"
      },
      "source": [
        "a=[]\n",
        "n=int(input(\"Enter number of elements:\"))\n",
        "for i in range(1, n+1):\n",
        "   b=int(input(\"Enter element:\"))\n",
        "   a.append(b)\n",
        "for i in range(0,len(a)):\n",
        "    for j in range(0,len(a)-i-1):\n",
        "        if(a[j]>a[j+1]):\n",
        "            temp=a[j]\n",
        "            a[j]=a[j+1]\n",
        "            a[j+1]=temp \n",
        "print('Second largest number is:',a[n-2])"
      ],
      "execution_count": 20,
      "outputs": [
        {
          "output_type": "stream",
          "text": [
            "Enter number of elements:3\n",
            "Enter element:34\n",
            "Enter element:55\n",
            "Enter element:12\n",
            "Second largest number is: 34\n"
          ],
          "name": "stdout"
        }
      ]
    },
    {
      "cell_type": "markdown",
      "metadata": {
        "id": "Op2MwndjUZOT",
        "colab_type": "text"
      },
      "source": [
        "#Instead of forementioned 12 lines program, the equivalent 4 lines progam !"
      ]
    },
    {
      "cell_type": "code",
      "metadata": {
        "id": "3xjURGU7Udar",
        "colab_type": "code",
        "colab": {
          "base_uri": "https://localhost:8080/",
          "height": 84
        },
        "outputId": "91715455-cf03-49cc-bfc0-8cc6f33e122d"
      },
      "source": [
        "x=0\n",
        "l=[int(input(x)) for _ in range(int(input(\"Enter how many elements\")))]\n",
        "l.sort()\n",
        "print(\"Second largest element is :\",l[-2])"
      ],
      "execution_count": 21,
      "outputs": [
        {
          "output_type": "stream",
          "text": [
            "Enter how many elements2\n",
            "23\n",
            "44\n",
            "Second largest element is : 23\n"
          ],
          "name": "stdout"
        }
      ]
    },
    {
      "cell_type": "markdown",
      "metadata": {
        "id": "gVi1RdnCUjvB",
        "colab_type": "text"
      },
      "source": [
        "#Program to create a list of tuples with the rst element as the number and the second\n",
        "#element as the square of the number.\n"
      ]
    },
    {
      "cell_type": "code",
      "metadata": {
        "id": "Ejp0jaAQUo5R",
        "colab_type": "code",
        "colab": {
          "base_uri": "https://localhost:8080/",
          "height": 87
        },
        "outputId": "580a9ae3-2cca-4e50-bdda-ff3e26f048d1"
      },
      "source": [
        "l_range=int(input(\"Enter the lower range:\"))\n",
        "u_range=int(input(\"Enter the upper range:\"))\n",
        "a=[(x,x**2) for x in range(l_range,u_range+1)]\n",
        "print(a)"
      ],
      "execution_count": 22,
      "outputs": [
        {
          "output_type": "stream",
          "text": [
            "Enter the lower range:100\n",
            "Enter the upper range:200\n",
            "[(100, 10000), (101, 10201), (102, 10404), (103, 10609), (104, 10816), (105, 11025), (106, 11236), (107, 11449), (108, 11664), (109, 11881), (110, 12100), (111, 12321), (112, 12544), (113, 12769), (114, 12996), (115, 13225), (116, 13456), (117, 13689), (118, 13924), (119, 14161), (120, 14400), (121, 14641), (122, 14884), (123, 15129), (124, 15376), (125, 15625), (126, 15876), (127, 16129), (128, 16384), (129, 16641), (130, 16900), (131, 17161), (132, 17424), (133, 17689), (134, 17956), (135, 18225), (136, 18496), (137, 18769), (138, 19044), (139, 19321), (140, 19600), (141, 19881), (142, 20164), (143, 20449), (144, 20736), (145, 21025), (146, 21316), (147, 21609), (148, 21904), (149, 22201), (150, 22500), (151, 22801), (152, 23104), (153, 23409), (154, 23716), (155, 24025), (156, 24336), (157, 24649), (158, 24964), (159, 25281), (160, 25600), (161, 25921), (162, 26244), (163, 26569), (164, 26896), (165, 27225), (166, 27556), (167, 27889), (168, 28224), (169, 28561), (170, 28900), (171, 29241), (172, 29584), (173, 29929), (174, 30276), (175, 30625), (176, 30976), (177, 31329), (178, 31684), (179, 32041), (180, 32400), (181, 32761), (182, 33124), (183, 33489), (184, 33856), (185, 34225), (186, 34596), (187, 34969), (188, 35344), (189, 35721), (190, 36100), (191, 36481), (192, 36864), (193, 37249), (194, 37636), (195, 38025), (196, 38416), (197, 38809), (198, 39204), (199, 39601), (200, 40000)]\n"
          ],
          "name": "stdout"
        }
      ]
    },
    {
      "cell_type": "markdown",
      "metadata": {
        "id": "QT0YSeJ7UwBs",
        "colab_type": "text"
      },
      "source": [
        "#The aforementioned program is already pythonic.\n",
        "#We can still make it more pythonic as follows"
      ]
    },
    {
      "cell_type": "code",
      "metadata": {
        "id": "cXo0j2DgU2F-",
        "colab_type": "code",
        "colab": {
          "base_uri": "https://localhost:8080/",
          "height": 87
        },
        "outputId": "2f903619-b54c-448d-f440-2e95300c7b17"
      },
      "source": [
        "a=[(x,x**2) for x in range(int(input(\"Enter the lower range:\")),\\\n",
        "                           int(input(\"Enter the upper range:\"))+1)]\n",
        "print(a)\n"
      ],
      "execution_count": 23,
      "outputs": [
        {
          "output_type": "stream",
          "text": [
            "Enter the lower range:100\n",
            "Enter the upper range:255\n",
            "[(100, 10000), (101, 10201), (102, 10404), (103, 10609), (104, 10816), (105, 11025), (106, 11236), (107, 11449), (108, 11664), (109, 11881), (110, 12100), (111, 12321), (112, 12544), (113, 12769), (114, 12996), (115, 13225), (116, 13456), (117, 13689), (118, 13924), (119, 14161), (120, 14400), (121, 14641), (122, 14884), (123, 15129), (124, 15376), (125, 15625), (126, 15876), (127, 16129), (128, 16384), (129, 16641), (130, 16900), (131, 17161), (132, 17424), (133, 17689), (134, 17956), (135, 18225), (136, 18496), (137, 18769), (138, 19044), (139, 19321), (140, 19600), (141, 19881), (142, 20164), (143, 20449), (144, 20736), (145, 21025), (146, 21316), (147, 21609), (148, 21904), (149, 22201), (150, 22500), (151, 22801), (152, 23104), (153, 23409), (154, 23716), (155, 24025), (156, 24336), (157, 24649), (158, 24964), (159, 25281), (160, 25600), (161, 25921), (162, 26244), (163, 26569), (164, 26896), (165, 27225), (166, 27556), (167, 27889), (168, 28224), (169, 28561), (170, 28900), (171, 29241), (172, 29584), (173, 29929), (174, 30276), (175, 30625), (176, 30976), (177, 31329), (178, 31684), (179, 32041), (180, 32400), (181, 32761), (182, 33124), (183, 33489), (184, 33856), (185, 34225), (186, 34596), (187, 34969), (188, 35344), (189, 35721), (190, 36100), (191, 36481), (192, 36864), (193, 37249), (194, 37636), (195, 38025), (196, 38416), (197, 38809), (198, 39204), (199, 39601), (200, 40000), (201, 40401), (202, 40804), (203, 41209), (204, 41616), (205, 42025), (206, 42436), (207, 42849), (208, 43264), (209, 43681), (210, 44100), (211, 44521), (212, 44944), (213, 45369), (214, 45796), (215, 46225), (216, 46656), (217, 47089), (218, 47524), (219, 47961), (220, 48400), (221, 48841), (222, 49284), (223, 49729), (224, 50176), (225, 50625), (226, 51076), (227, 51529), (228, 51984), (229, 52441), (230, 52900), (231, 53361), (232, 53824), (233, 54289), (234, 54756), (235, 55225), (236, 55696), (237, 56169), (238, 56644), (239, 57121), (240, 57600), (241, 58081), (242, 58564), (243, 59049), (244, 59536), (245, 60025), (246, 60516), (247, 61009), (248, 61504), (249, 62001), (250, 62500), (251, 63001), (252, 63504), (253, 64009), (254, 64516), (255, 65025)]\n"
          ],
          "name": "stdout"
        }
      ]
    },
    {
      "cell_type": "markdown",
      "metadata": {
        "id": "IrfG3IevU7pF",
        "colab_type": "text"
      },
      "source": [
        "#Of course, We can write in the most pythonic way with one line ! as follows"
      ]
    },
    {
      "cell_type": "code",
      "metadata": {
        "id": "8X8z-3_pU-_t",
        "colab_type": "code",
        "colab": {
          "base_uri": "https://localhost:8080/",
          "height": 87
        },
        "outputId": "a1989b60-a455-4754-ceb7-6bde297ffe35"
      },
      "source": [
        "print([(x,x**2) for x in range(int(input(\"Enter the lower range:\")),\\\n",
        "                           int(input(\"Enter the upper range:\"))+1)])"
      ],
      "execution_count": 24,
      "outputs": [
        {
          "output_type": "stream",
          "text": [
            "Enter the lower range:100\n",
            "Enter the upper range:200\n",
            "[(100, 10000), (101, 10201), (102, 10404), (103, 10609), (104, 10816), (105, 11025), (106, 11236), (107, 11449), (108, 11664), (109, 11881), (110, 12100), (111, 12321), (112, 12544), (113, 12769), (114, 12996), (115, 13225), (116, 13456), (117, 13689), (118, 13924), (119, 14161), (120, 14400), (121, 14641), (122, 14884), (123, 15129), (124, 15376), (125, 15625), (126, 15876), (127, 16129), (128, 16384), (129, 16641), (130, 16900), (131, 17161), (132, 17424), (133, 17689), (134, 17956), (135, 18225), (136, 18496), (137, 18769), (138, 19044), (139, 19321), (140, 19600), (141, 19881), (142, 20164), (143, 20449), (144, 20736), (145, 21025), (146, 21316), (147, 21609), (148, 21904), (149, 22201), (150, 22500), (151, 22801), (152, 23104), (153, 23409), (154, 23716), (155, 24025), (156, 24336), (157, 24649), (158, 24964), (159, 25281), (160, 25600), (161, 25921), (162, 26244), (163, 26569), (164, 26896), (165, 27225), (166, 27556), (167, 27889), (168, 28224), (169, 28561), (170, 28900), (171, 29241), (172, 29584), (173, 29929), (174, 30276), (175, 30625), (176, 30976), (177, 31329), (178, 31684), (179, 32041), (180, 32400), (181, 32761), (182, 33124), (183, 33489), (184, 33856), (185, 34225), (186, 34596), (187, 34969), (188, 35344), (189, 35721), (190, 36100), (191, 36481), (192, 36864), (193, 37249), (194, 37636), (195, 38025), (196, 38416), (197, 38809), (198, 39204), (199, 39601), (200, 40000)]\n"
          ],
          "name": "stdout"
        }
      ]
    },
    {
      "cell_type": "markdown",
      "metadata": {
        "id": "awp5BhrWVERs",
        "colab_type": "text"
      },
      "source": [
        "#Program to generate random numbers from 1 to 20 and append them to the list."
      ]
    },
    {
      "cell_type": "code",
      "metadata": {
        "id": "LxRcGf7VVHpa",
        "colab_type": "code",
        "colab": {
          "base_uri": "https://localhost:8080/",
          "height": 50
        },
        "outputId": "0ef48414-b3a7-43a8-ae65-f87ee62cc46d"
      },
      "source": [
        "import random\n",
        "a=[]\n",
        "n=int(input(\"Enter number of elements:\"))\n",
        "for j in range(n):\n",
        "    a.append(random.randint(1,20))\n",
        "print('Randomised list is: ',a)"
      ],
      "execution_count": 25,
      "outputs": [
        {
          "output_type": "stream",
          "text": [
            "Enter number of elements:3\n",
            "Randomised list is:  [13, 3, 19]\n"
          ],
          "name": "stdout"
        }
      ]
    },
    {
      "cell_type": "markdown",
      "metadata": {
        "id": "PC9wcVizVPFy",
        "colab_type": "text"
      },
      "source": [
        "#Pythonic program of 2 lines!"
      ]
    },
    {
      "cell_type": "code",
      "metadata": {
        "id": "BZBZmcGgVRqs",
        "colab_type": "code",
        "colab": {
          "base_uri": "https://localhost:8080/",
          "height": 50
        },
        "outputId": "e4a73e84-7d9d-4c9d-858a-1101f3a1c75d"
      },
      "source": [
        "import random\n",
        "l=[random.randint(1,20) for _ in range(int(input(\"Enter how many elements\")))]\n",
        "print('Randomised list is: ',l)"
      ],
      "execution_count": 26,
      "outputs": [
        {
          "output_type": "stream",
          "text": [
            "Enter how many elements3\n",
            "Randomised list is:  [18, 13, 3]\n"
          ],
          "name": "stdout"
        }
      ]
    },
    {
      "cell_type": "markdown",
      "metadata": {
        "id": "fIZD2KqDVWyg",
        "colab_type": "text"
      },
      "source": [
        "#Program for printing list of values with indexing"
      ]
    },
    {
      "cell_type": "code",
      "metadata": {
        "id": "u2ZosfoHVZxG",
        "colab_type": "code",
        "colab": {
          "base_uri": "https://localhost:8080/",
          "height": 218
        },
        "outputId": "df1cd484-147e-4488-9639-b4fd14d1bc75"
      },
      "source": [
        "names = ['Jan','Feb','Mar','Apr','May','Jun','Jul','Aug','Sep','Oct','Nov','Dec']\n",
        "index=0\n",
        "for i in names:\n",
        "    print(str(index)+\":\"+i)\n",
        "    index=index+1"
      ],
      "execution_count": 27,
      "outputs": [
        {
          "output_type": "stream",
          "text": [
            "0:Jan\n",
            "1:Feb\n",
            "2:Mar\n",
            "3:Apr\n",
            "4:May\n",
            "5:Jun\n",
            "6:Jul\n",
            "7:Aug\n",
            "8:Sep\n",
            "9:Oct\n",
            "10:Nov\n",
            "11:Dec\n"
          ],
          "name": "stdout"
        }
      ]
    },
    {
      "cell_type": "markdown",
      "metadata": {
        "id": "k4GUVFioVxQT",
        "colab_type": "text"
      },
      "source": [
        "#using Pythonic way using enumerate()!"
      ]
    },
    {
      "cell_type": "code",
      "metadata": {
        "id": "81a7OfrGV02n",
        "colab_type": "code",
        "colab": {
          "base_uri": "https://localhost:8080/",
          "height": 218
        },
        "outputId": "2247f052-a7f5-44c1-8e48-846c713b618f"
      },
      "source": [
        "names = ['Jan','Feb','Mar','Apr','May','Jun','Jul','Aug','Sep','Oct','Nov','Dec']\n",
        "for index, value in enumerate(names):\n",
        "    print(f'{index+1}: {value}')"
      ],
      "execution_count": 28,
      "outputs": [
        {
          "output_type": "stream",
          "text": [
            "1: Jan\n",
            "2: Feb\n",
            "3: Mar\n",
            "4: Apr\n",
            "5: May\n",
            "6: Jun\n",
            "7: Jul\n",
            "8: Aug\n",
            "9: Sep\n",
            "10: Oct\n",
            "11: Nov\n",
            "12: Dec\n"
          ],
          "name": "stdout"
        }
      ]
    }
  ]
}